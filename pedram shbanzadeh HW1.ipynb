{
  "cells": [
    {
      "cell_type": "code",
      "execution_count": null,
      "metadata": {
        "id": "4sd3NrfYF8g6"
      },
      "outputs": [],
      "source": [
        "\"Pedram Sha'banzadeh\",\n",
        "\"97105288\""
      ]
    },
    {
      "cell_type": "code",
      "execution_count": 203,
      "metadata": {
        "id": "_QlmmIOVJLfI"
      },
      "outputs": [],
      "source": [
        "import numpy as np\n",
        "import pandas as pd\n",
        "import matplotlib.pyplot as plt\n",
        "import scipy as sc\n",
        "from scipy import stats\n",
        "import math"
      ]
    },
    {
      "cell_type": "code",
      "execution_count": null,
      "metadata": {
        "colab": {
          "base_uri": "https://localhost:8080/"
        },
        "id": "sLILmKoFH3uC",
        "outputId": "fef1d256-6b27-4bb2-ac40-f9213f813374"
      },
      "outputs": [
        {
          "name": "stdout",
          "output_type": "stream",
          "text": [
            "A= [[10 20 30]\n",
            " [ 5 10 15]\n",
            " [ 1  5 10]] \n",
            " \n",
            " B= [[[15 30 45]\n",
            "  [20 35 50]\n",
            "  [25 40 55]]\n",
            "\n",
            " [[20 35 50]\n",
            "  [25 40 55]\n",
            "  [30 45 60]]\n",
            "\n",
            " [[25 40 55]\n",
            "  [30 45 60]\n",
            "  [35 50 65]]\n",
            "\n",
            " [[30 45 60]\n",
            "  [35 50 65]\n",
            "  [40 55 70]]]\n"
          ]
        }
      ],
      "source": [
        "A=np.array([[10, 20, 30], [5, 10, 15], [1, 5 , 10]])\n",
        "B=np.array([[[15, 30, 45], [20, 35, 50], [25, 40, 55]], [[20, 35, 50], [25, 40, 55], [30, 45, 60]], [[25, 40, 55], [30, 45, 60], [35, 50, 65]], [[30, 45, 60], [35, 50, 65], [40, 55, 70]]])\n",
        "print(\"A=\", A,\"\\n\", \"\\n\",\"B=\", B)"
      ]
    },
    {
      "cell_type": "code",
      "execution_count": null,
      "metadata": {
        "colab": {
          "base_uri": "https://localhost:8080/"
        },
        "id": "0bRF5TZ5MFqW",
        "outputId": "0aae8c6f-88d9-46c0-d90f-c64a9026a95a"
      },
      "outputs": [
        {
          "name": "stdout",
          "output_type": "stream",
          "text": [
            "[[[15 30 45]\n",
            "  [20 35 50]\n",
            "  [25 40 55]]\n",
            "\n",
            " [[20 35 50]\n",
            "  [25 40 55]\n",
            "  [30 45 60]]\n",
            "\n",
            " [[25 40 55]\n",
            "  [30 45 60]\n",
            "  [35 50 65]]\n",
            "\n",
            " [[10 20 30]\n",
            "  [ 5 10 15]\n",
            "  [ 1  5 10]]]\n"
          ]
        }
      ],
      "source": [
        "BA=np.array([[[15,30,45],[20,35,50],[25,40,55]],[[20,35,50],[25,40,55],[30,45,60]],[[25,40,55],[30,45,60],[35,50,65]],A])\n",
        "print(BA)"
      ]
    },
    {
      "cell_type": "code",
      "execution_count": null,
      "metadata": {
        "colab": {
          "base_uri": "https://localhost:8080/"
        },
        "id": "Sglk9ielNyRL",
        "outputId": "fd535267-ecd1-4d04-f4bd-a9cda30a8d33"
      },
      "outputs": [
        {
          "name": "stdout",
          "output_type": "stream",
          "text": [
            "[[[30 45 60]\n",
            "  [35 50 65]\n",
            "  [40 55 70]]\n",
            "\n",
            " [[20 35 50]\n",
            "  [25 40 55]\n",
            "  [30 45 60]]\n",
            "\n",
            " [[25 40 55]\n",
            "  [30 45 60]\n",
            "  [35 50 65]]\n",
            "\n",
            " [[15 30 45]\n",
            "  [20 35 50]\n",
            "  [25 40 55]]]\n"
          ]
        }
      ],
      "source": [
        "B[[0,3],:,:]=B[[3,0],:,:]\n",
        "print(B)\n",
        "#changing it back for further codes:\n",
        "B[[0,3],:,:]=B[[3,0],:,:]"
      ]
    },
    {
      "cell_type": "code",
      "execution_count": null,
      "metadata": {
        "colab": {
          "base_uri": "https://localhost:8080/"
        },
        "id": "1kiajTQmXbYm",
        "outputId": "f18ed044-3838-4446-ecf7-f92ae2dcd84b"
      },
      "outputs": [
        {
          "name": "stdout",
          "output_type": "stream",
          "text": [
            "[[[15 20 25 30]\n",
            "  [20 25 30 35]\n",
            "  [25 30 35 40]]\n",
            "\n",
            " [[30 35 40 45]\n",
            "  [35 40 45 50]\n",
            "  [40 45 50 55]]\n",
            "\n",
            " [[45 50 55 60]\n",
            "  [50 55 60 65]\n",
            "  [55 60 65 70]]]\n"
          ]
        }
      ],
      "source": [
        "BT=np.transpose(B)\n",
        "print(BT)"
      ]
    },
    {
      "cell_type": "code",
      "execution_count": null,
      "metadata": {
        "colab": {
          "base_uri": "https://localhost:8080/"
        },
        "id": "8RDGFmnFZPsn",
        "outputId": "a40ccecc-0123-4ab5-bf09-e58f3f957f4d"
      },
      "outputs": [
        {
          "name": "stdout",
          "output_type": "stream",
          "text": [
            "[[  225000  1890000  7425000]\n",
            " [  525000  3150000 10725000]\n",
            " [ 1050000  4950000 15015000]]\n"
          ]
        }
      ],
      "source": [
        "print(B[0,:,:]*B[1,:,:]*B[2,:,:]*B[3,:,:])"
      ]
    },
    {
      "cell_type": "code",
      "execution_count": null,
      "metadata": {
        "colab": {
          "base_uri": "https://localhost:8080/"
        },
        "id": "CIPKU927akKJ",
        "outputId": "48d771b1-8720-46eb-a01c-df3368ab95bc"
      },
      "outputs": [
        {
          "name": "stdout",
          "output_type": "stream",
          "text": [
            "0.0\n"
          ]
        }
      ],
      "source": [
        "print(np.linalg.det(A))"
      ]
    },
    {
      "cell_type": "code",
      "execution_count": null,
      "metadata": {
        "colab": {
          "base_uri": "https://localhost:8080/"
        },
        "id": "1HmENc_1a5OP",
        "outputId": "ebd16c18-e150-48e9-b7b3-388454bbcb02"
      },
      "outputs": [
        {
          "name": "stdout",
          "output_type": "stream",
          "text": [
            "   Rank                    Title                     Genre  \\\n",
            "0     1  Guardians of the Galaxy   Action,Adventure,Sci-Fi   \n",
            "1     2               Prometheus  Adventure,Mystery,Sci-Fi   \n",
            "2     3                    Split           Horror,Thriller   \n",
            "3     4                     Sing   Animation,Comedy,Family   \n",
            "4     5            Suicide Squad  Action,Adventure,Fantasy   \n",
            "\n",
            "                                         Description              Director  \\\n",
            "0  A group of intergalactic criminals are forced ...            James Gunn   \n",
            "1  Following clues to the origin of mankind, a te...          Ridley Scott   \n",
            "2  Three girls are kidnapped by a man with a diag...    M. Night Shyamalan   \n",
            "3  In a city of humanoid animals, a hustling thea...  Christophe Lourdelet   \n",
            "4  A secret government agency recruits some of th...            David Ayer   \n",
            "\n",
            "                                              Actors  Year  Runtime (Minutes)  \\\n",
            "0  Chris Pratt, Vin Diesel, Bradley Cooper, Zoe S...  2014                121   \n",
            "1  Noomi Rapace, Logan Marshall-Green, Michael Fa...  2012                124   \n",
            "2  James McAvoy, Anya Taylor-Joy, Haley Lu Richar...  2016                117   \n",
            "3  Matthew McConaughey,Reese Witherspoon, Seth Ma...  2016                108   \n",
            "4  Will Smith, Jared Leto, Margot Robbie, Viola D...  2016                123   \n",
            "\n",
            "   Rating   Votes  Revenue (Millions)  Metascore  \n",
            "0     8.1  757074              333.13       76.0  \n",
            "1     7.0  485820              126.46       65.0  \n",
            "2     7.3  157606              138.12       62.0  \n",
            "3     7.2   60545              270.32       59.0  \n",
            "4     6.2  393727              325.02       40.0  \n"
          ]
        }
      ],
      "source": [
        "df = pd.read_excel(\"/content/drive/MyDrive/IMDB-Movie-Data.xlsx\")\n",
        "print(df.loc[0:4])"
      ]
    },
    {
      "cell_type": "code",
      "execution_count": 143,
      "metadata": {
        "colab": {
          "base_uri": "https://localhost:8080/"
        },
        "id": "lKXAEG9fo6Qd",
        "outputId": "d868c016-ee02-4666-ad68-f79bcca850ff"
      },
      "outputs": [
        {
          "output_type": "stream",
          "name": "stdout",
          "text": [
            "[['50 Cent' '1']\n",
            " ['A.C. Peterson' '1']\n",
            " ['AJ Michalka' '1']\n",
            " ...\n",
            " ['Ã“lafur Darri Ã“lafsson' '1']\n",
            " ['Ã“scar Jaenada' '1']\n",
            " ['Ã‰milie Leclerc' '1']]\n",
            "[['50 Cent' '1']\n",
            " ['Lorraine Nicholson' '1']\n",
            " ['Lori Petty' '1']\n",
            " ...\n",
            " ['Ben Kingsley' '9']\n",
            " ['Owen Wilson' '9']\n",
            " ['Tom Hanks' '9']]\n"
          ]
        }
      ],
      "source": [
        "a=df[\"Actors\"].values\n",
        "x=\"\"\n",
        "l1=[]\n",
        "l2=[]\n",
        "l3=[]\n",
        "l4=[]\n",
        "for i in a:\n",
        "    for j in range(0, len(i)):\n",
        "        if (i[j]==\",\") or (i[j]==\" \" and i[j-1]==\",\"):\n",
        "            l1.append(x)\n",
        "            x=\"\"\n",
        "        elif j==len(i)-1:\n",
        "            x=x+i[j]\n",
        "            l1.append(x)\n",
        "            x=\"\" \n",
        "        else:\n",
        "            x=x+i[j]\n",
        "while '' in l1:\n",
        "  l1.remove('')\n",
        "\n",
        "for z in l1:\n",
        "  c=l1.count(z)\n",
        "  l2.append(c)\n",
        "\n",
        "for i in l1:\n",
        "  if i in l3:\n",
        "    continue\n",
        "  else:\n",
        "    l3.append(i)\n",
        "    l4.append(l2[l1.index(i)])\n",
        "\n",
        "m=np.array([l3,l4])\n",
        "mt=np.transpose(m)\n",
        "mt = mt[mt[:, 0].argsort()]\n",
        "print(mt)\n",
        "mt = mt[mt[:, 1].argsort()]\n",
        "print(mt)"
      ]
    },
    {
      "cell_type": "code",
      "source": [
        "meta=df[\"Metascore\"].values\n",
        "lm=[]\n",
        "for i in meta:\n",
        "  lm.append(i)\n",
        "plt.hist(lm, bins=50)\n",
        "plt.xlabel('metascore')\n",
        "plt.ylabel('Frequency')\n",
        "plt.title('metascore histogram')\n",
        "plt.show()\n",
        "\n",
        "rate=df[\"Rating\"].values\n",
        "lr=[]\n",
        "for i in rate:\n",
        "  lr.append(i)\n",
        "plt.hist(lr, bins=50)\n",
        "plt.xlabel('rating')\n",
        "plt.ylabel('Frequency')\n",
        "plt.title('Rating histogram')\n",
        "plt.show()\n"
      ],
      "metadata": {
        "colab": {
          "base_uri": "https://localhost:8080/",
          "height": 573
        },
        "id": "BY9Re_oXIKja",
        "outputId": "d82e5768-3054-4c59-ec66-6d8721b8369b"
      },
      "execution_count": 154,
      "outputs": [
        {
          "output_type": "display_data",
          "data": {
            "text/plain": [
              "<Figure size 432x288 with 1 Axes>"
            ],
            "image/png": "[encoded data removed]"
          },
          "metadata": {
            "needs_background": "light"
          }
        },
        {
          "output_type": "display_data",
          "data": {
            "text/plain": [
              "<Figure size 432x288 with 1 Axes>"
            ],
            "image/png": "[encoded data removed]"
          },
          "metadata": {
            "needs_background": "light"
          }
        }
      ]
    },
    {
      "cell_type": "code",
      "source": [
        "from re import L\n",
        "v=df[\"Votes\"].values\n",
        "lv=[]\n",
        "for i in v:\n",
        "  lv.append(v)\n",
        "\n",
        "met=np.array(lm)\n",
        "rat=np.array(lr)\n",
        "vot=np.array(lv)\n",
        "result = sc.stats.pearsonr(lr,lv)\n",
        "print(result)"
      ],
      "metadata": {
        "colab": {
          "base_uri": "https://localhost:8080/"
        },
        "id": "RT28Iq61OlET",
        "outputId": "d8eed1f1-5fe9-4c33-d346-59b1ccf8c36e"
      },
      "execution_count": 186,
      "outputs": [
        {
          "output_type": "stream",
          "name": "stdout",
          "text": [
            "PearsonRResult(statistic=nan, pvalue=nan)\n"
          ]
        },
        {
          "output_type": "stream",
          "name": "stderr",
          "text": [
            "/usr/local/lib/python3.9/dist-packages/scipy/stats/_stats_py.py:4424: ConstantInputWarning: An input array is constant; the correlation coefficient is not defined.\n",
            "  warnings.warn(stats.ConstantInputWarning(msg))\n"
          ]
        }
      ]
    },
    {
      "cell_type": "code",
      "source": [
        "f=open(\"/content/drive/MyDrive/Question 3.txt\", \"w\")\n",
        "for i in l3:\n",
        "  f.write(i)\n",
        "  f.write(\"\\n\")\n",
        "f.close()  "
      ],
      "metadata": {
        "id": "M-fyObgbbt55"
      },
      "execution_count": 197,
      "outputs": []
    },
    {
      "cell_type": "code",
      "source": [
        "b=df[\"Year\"].values\n",
        "x=\"\"\n",
        "l5=[]\n",
        "l6=[]\n",
        "l7=[]\n",
        "l8=[]\n",
        "for i in b:\n",
        "    l5.append(i)\n",
        "\n",
        "for z in l5:\n",
        "  c2=l5.count(z)\n",
        "  l6.append(c2)\n",
        "\n",
        "for i in l5:\n",
        "  if i in l7:\n",
        "    continue\n",
        "  else:\n",
        "    l7.append(i)\n",
        "    l8.append(l6[l5.index(i)])\n",
        "\n",
        "plt.bar(l7,l8)\n",
        "plt.xlabel(\"year\")\n",
        "plt.ylabel(\"Frequency\")\n",
        "plt.title(\"number of movies in each year\")\n",
        "plt.show()"
      ],
      "metadata": {
        "colab": {
          "base_uri": "https://localhost:8080/",
          "height": 295
        },
        "id": "wq5XZ4NcgBjZ",
        "outputId": "bc530e7f-9f0e-4dbf-b37d-13c1fffde0a8"
      },
      "execution_count": 202,
      "outputs": [
        {
          "output_type": "display_data",
          "data": {
            "text/plain": [
              "<Figure size 432x288 with 1 Axes>"
            ],
            "image/png": "[encoded data removed]"
          },
          "metadata": {
            "needs_background": "light"
          }
        }
      ]
    },
    {
      "cell_type": "code",
      "source": [
        "lx=[]\n",
        "lf=[]\n",
        "for x in range(0,3142,1):\n",
        "  f=math.cos(x/50)\n",
        "  lx.append(x)\n",
        "  lf.append(f)\n",
        "\n",
        "for x in range(3142, 25132, 1):\n",
        "  f=math.cos(x/200)\n",
        "  lx.append(x)\n",
        "  lf.append(f)\n",
        "\n",
        "plt.plot(lx,lf)\n",
        "plt.xlabel(\"x\")\n",
        "plt.ylabel(\"y\")\n",
        "plt.show()"
      ],
      "metadata": {
        "colab": {
          "base_uri": "https://localhost:8080/",
          "height": 279
        },
        "id": "55Si9us6h6ZO",
        "outputId": "22c6b9b1-6940-43e7-875f-820b83de3b35"
      },
      "execution_count": 211,
      "outputs": [
        {
          "output_type": "display_data",
          "data": {
            "text/plain": [
              "<Figure size 432x288 with 1 Axes>"
            ],
            "image/png": "[encoded data removed]"
          },
          "metadata": {
            "needs_background": "light"
          }
        }
      ]
    },
    {
      "cell_type": "code",
      "source": [],
      "metadata": {
        "id": "Yfr2fR8flBON"
      },
      "execution_count": null,
      "outputs": []
    }
  ],
  "metadata": {
    "colab": {
      "provenance": []
    },
    "kernelspec": {
      "display_name": "Python 3",
      "name": "python3"
    },
    "language_info": {
      "name": "python"
    }
  },
  "nbformat": 4,
  "nbformat_minor": 0
}